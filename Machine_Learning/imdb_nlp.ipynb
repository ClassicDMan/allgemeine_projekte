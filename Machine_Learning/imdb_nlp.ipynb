{
 "cells": [
  {
   "cell_type": "markdown",
   "id": "40d810a3-221a-409f-bf79-79987b3191a9",
   "metadata": {},
   "source": [
    "# Natural Language Processing - IMDB Sentiment Analysis\n",
    "\n",
    "Auf Basis des TensorFlow-Tutorials zur Textklassifikation: <https://www.tensorflow.org/tutorials/keras/text_classification>"
   ]
  },
  {
   "cell_type": "markdown",
   "id": "cd7847ce-f913-4312-a19d-72edd72e4dab",
   "metadata": {},
   "source": [
    "## Setup und Importe"
   ]
  },
  {
   "cell_type": "code",
   "execution_count": 38,
   "id": "e280beac-dacb-4644-bd83-b1b880a65fcb",
   "metadata": {},
   "outputs": [],
   "source": [
    "%reload_ext autoreload\n",
    "%autoreload 2\n",
    "%matplotlib inline"
   ]
  },
  {
   "cell_type": "code",
   "execution_count": 39,
   "id": "8e0b0060-7cf3-4f78-b775-cbe0352850aa",
   "metadata": {},
   "outputs": [
    {
     "name": "stdout",
     "output_type": "stream",
     "text": [
      "Python:     3.11.10\n",
      "TensorFlow: 2.18.0\n",
      "CUDA:       True\n",
      "Devices:    PhysicalDevice(name='/physical_device:CPU:0', device_type='CPU')\n",
      "MLLib:      0.1.5\n"
     ]
    }
   ],
   "source": [
    "import os\n",
    "\n",
    "os.environ[\"TF_CPP_MIN_LOG_LEVEL\"] = \"3\"\n",
    "\n",
    "import datetime\n",
    "import matplotlib.pyplot as plt\n",
    "import numpy as np\n",
    "import pandas as pd\n",
    "import pydot\n",
    "import re\n",
    "import shutil\n",
    "import string\n",
    "import tensorflow as tf\n",
    "\n",
    "from mllib import info\n",
    "from pathlib import Path\n",
    "from tensorflow import keras\n",
    "\n",
    "info()"
   ]
  },
  {
   "cell_type": "markdown",
   "id": "b26bb10f-c791-4566-af61-112bddf378f0",
   "metadata": {},
   "source": [
    "## Daten einlesen und vorbereiten"
   ]
  },
  {
   "cell_type": "markdown",
   "id": "80850232-1b7e-4e4a-ace6-e4e0366da17b",
   "metadata": {},
   "source": [
    "### Einlesen der Daten"
   ]
  },
  {
   "cell_type": "code",
   "execution_count": 40,
   "id": "b231315c-7ec6-4e4a-884b-818fb2ca397c",
   "metadata": {},
   "outputs": [],
   "source": [
    "dataset_url = \"https://ai.stanford.edu/~amaas/data/sentiment/aclImdb_v1.tar.gz\"\n",
    "data_dir = tf.keras.utils.get_file(\"aclImdb_v1\", origin=dataset_url, extract=True)\n",
    "data_dir = Path(data_dir)"
   ]
  },
  {
   "cell_type": "code",
   "execution_count": 41,
   "id": "c92b72dd-b370-4b88-9579-685dbdd1baad",
   "metadata": {},
   "outputs": [
    {
     "name": "stdout",
     "output_type": "stream",
     "text": [
      "/home/juan/.keras/datasets/aclImdb_v1/aclImdb\n"
     ]
    }
   ],
   "source": [
    "dataset_dir = Path(data_dir, \"aclImdb\").resolve()\n",
    "print(dataset_dir)"
   ]
  },
  {
   "cell_type": "code",
   "execution_count": 42,
   "id": "0fb256e5-ce64-4432-9600-cf3ee86abbc8",
   "metadata": {},
   "outputs": [
    {
     "data": {
      "text/plain": [
       "[PosixPath('/home/juan/.keras/datasets/aclImdb_v1/aclImdb/imdb.vocab'),\n",
       " PosixPath('/home/juan/.keras/datasets/aclImdb_v1/aclImdb/imdbEr.txt'),\n",
       " PosixPath('/home/juan/.keras/datasets/aclImdb_v1/aclImdb/train'),\n",
       " PosixPath('/home/juan/.keras/datasets/aclImdb_v1/aclImdb/README'),\n",
       " PosixPath('/home/juan/.keras/datasets/aclImdb_v1/aclImdb/test')]"
      ]
     },
     "execution_count": 42,
     "metadata": {},
     "output_type": "execute_result"
    }
   ],
   "source": [
    "list(dataset_dir.glob(\"*\"))"
   ]
  },
  {
   "cell_type": "code",
   "execution_count": 43,
   "id": "0d7afbdf-2fb9-44b3-a40f-9199b32ad714",
   "metadata": {},
   "outputs": [
    {
     "data": {
      "text/plain": [
       "['imdb.vocab', 'imdbEr.txt', 'train', 'README', 'test']"
      ]
     },
     "execution_count": 43,
     "metadata": {},
     "output_type": "execute_result"
    }
   ],
   "source": [
    "os.listdir(dataset_dir)"
   ]
  },
  {
   "cell_type": "code",
   "execution_count": 44,
   "id": "8d3ee2e3-05a3-4bd9-b288-3886f46cf369",
   "metadata": {},
   "outputs": [
    {
     "data": {
      "text/plain": [
       "['urls_neg.txt',\n",
       " 'neg',\n",
       " 'pos',\n",
       " 'labeledBow.feat',\n",
       " 'urls_unsup.txt',\n",
       " 'unsup',\n",
       " 'urls_pos.txt',\n",
       " 'unsupBow.feat']"
      ]
     },
     "execution_count": 44,
     "metadata": {},
     "output_type": "execute_result"
    }
   ],
   "source": [
    "train_dir = os.path.join(dataset_dir, \"train\")\n",
    "os.listdir(train_dir)"
   ]
  },
  {
   "cell_type": "code",
   "execution_count": 45,
   "id": "e523b259-5693-4eb4-9f39-b177b6e38dc9",
   "metadata": {},
   "outputs": [
    {
     "name": "stdout",
     "output_type": "stream",
     "text": [
      "Rachel Griffiths writes and directs this award winning short film. A heartwarming story about coping with grief and cherishing the memory of those we've loved and lost. Although, only 15 minutes long, Griffiths manages to capture so much emotion and truth onto film in the short space of time. Bud Tingwell gives a touching performance as Will, a widower struggling to cope with his wife's death. Will is confronted by the harsh reality of loneliness and helplessness as he proceeds to take care of Ruth's pet cow, Tulip. The film displays the grief and responsibility one feels for those they have loved and lost. Good cinematography, great direction, and superbly acted. It will bring tears to all those who have lost a loved one, and survived.\n"
     ]
    }
   ],
   "source": [
    "sample_file = os.path.join(train_dir, \"pos/1181_9.txt\")\n",
    "with open(sample_file) as f:\n",
    "    print(f.read())"
   ]
  },
  {
   "cell_type": "code",
   "execution_count": 46,
   "id": "2206087b-2056-4e61-a287-ac6ff586605f",
   "metadata": {},
   "outputs": [],
   "source": [
    "# train_dir = Path(\"/home/juan/.keras/datasets/aclImdb_v1/aclImdb/train\")"
   ]
  },
  {
   "cell_type": "code",
   "execution_count": 47,
   "id": "bda65b4a-3028-4122-bc66-29326d9794fb",
   "metadata": {},
   "outputs": [],
   "source": [
    "remove_dir = os.path.join(train_dir, \"unsup\")\n",
    "shutil.rmtree(remove_dir)"
   ]
  },
  {
   "cell_type": "markdown",
   "id": "23c1aac7-d33a-4d2f-b59b-bcce2c14cf83",
   "metadata": {},
   "source": [
    "### Dataset einlesen und für die Weiterverarbeitung vorbereiten"
   ]
  },
  {
   "cell_type": "markdown",
   "id": "0748619e-d7d3-4828-bed6-6d07edc96fc0",
   "metadata": {},
   "source": [
    "Hinweis: Damit keine Daten fehlen oder sowohl im Trainings- als auch im Validierungs-/Testdatensatz landen, muss ein einheitlicher `seed` verwendet werden!"
   ]
  },
  {
   "cell_type": "code",
   "execution_count": 48,
   "id": "0fd8fb5a-02e0-41fa-bac8-bf0b0e7dca4e",
   "metadata": {},
   "outputs": [],
   "source": [
    "batch_size = 32\n",
    "seed = 42"
   ]
  },
  {
   "cell_type": "markdown",
   "id": "12138b2d-8be5-4838-8517-53261da3aaf0",
   "metadata": {},
   "source": [
    "#### Trainingsdaten"
   ]
  },
  {
   "cell_type": "code",
   "execution_count": 49,
   "id": "823f8fcd-b084-48c7-a007-ac9ca607bb6e",
   "metadata": {},
   "outputs": [
    {
     "name": "stdout",
     "output_type": "stream",
     "text": [
      "Found 25000 files belonging to 2 classes.\n",
      "Using 20000 files for training.\n"
     ]
    }
   ],
   "source": [
    "train_dir = Path(dataset_dir, \"train\").resolve()\n",
    "\n",
    "raw_train_ds = tf.keras.utils.text_dataset_from_directory(\n",
    "    train_dir,\n",
    "    batch_size=batch_size,\n",
    "    validation_split=0.2,\n",
    "    subset=\"training\",\n",
    "    seed=seed\n",
    ")"
   ]
  },
  {
   "cell_type": "code",
   "execution_count": 50,
   "id": "0c8e1f04-2965-45b2-89ab-3cb086e3418b",
   "metadata": {},
   "outputs": [
    {
     "name": "stdout",
     "output_type": "stream",
     "text": [
      "Review b'\"Pandemonium\" is a horror movie spoof that comes off more stupid than funny. Believe me when I tell you, I love comedies. Especially comedy spoofs. \"Airplane\", \"The Naked Gun\" trilogy, \"Blazing Saddles\", \"High Anxiety\", and \"Spaceballs\" are some of my favorite comedies that spoof a particular genre. \"Pandemonium\" is not up there with those films. Most of the scenes in this movie had me sitting there in stunned silence because the movie wasn\\'t all that funny. There are a few laughs in the film, but when you watch a comedy, you expect to laugh a lot more than a few times and that\\'s all this film has going for it. Geez, \"Scream\" had more laughs than this film and that was more of a horror film. How bizarre is that?<br /><br />*1/2 (out of four)'\n",
      "Label 0\n",
      "Review b\"David Mamet is a very interesting and a very un-equal director. His first movie 'House of Games' was the one I liked best, and it set a series of films with characters whose perspective of life changes as they get into complicated situations, and so does the perspective of the viewer.<br /><br />So is 'Homicide' which from the title tries to set the mind of the viewer to the usual crime drama. The principal characters are two cops, one Jewish and one Irish who deal with a racially charged area. The murder of an old Jewish shop owner who proves to be an ancient veteran of the Israeli Independence war triggers the Jewish identity in the mind and heart of the Jewish detective.<br /><br />This is were the flaws of the film are the more obvious. The process of awakening is theatrical and hard to believe, the group of Jewish militants is operatic, and the way the detective eventually walks to the final violent confrontation is pathetic. The end of the film itself is Mamet-like smart, but disappoints from a human emotional perspective.<br /><br />Joe Mantegna and William Macy give strong performances, but the flaws of the story are too evident to be easily compensated.\"\n",
      "Label 0\n",
      "Review b'Great documentary about the lives of NY firefighters during the worst terrorist attack of all time.. That reason alone is why this should be a must see collectors item.. What shocked me was not only the attacks, but the\"High Fat Diet\" and physical appearance of some of these firefighters. I think a lot of Doctors would agree with me that,in the physical shape they were in, some of these firefighters would NOT of made it to the 79th floor carrying over 60 lbs of gear. Having said that i now have a greater respect for firefighters and i realize becoming a firefighter is a life altering job. The French have a history of making great documentary\\'s and that is what this is, a Great Documentary.....'\n",
      "Label 1\n"
     ]
    }
   ],
   "source": [
    "for text_batch, label_batch in raw_train_ds.take(1):\n",
    "    for i in range(3):\n",
    "        print(\"Review\", text_batch.numpy()[i])\n",
    "        print(\"Label\", label_batch.numpy()[i])"
   ]
  },
  {
   "cell_type": "markdown",
   "id": "f2b74472-d919-41ba-96dc-8be225e76187",
   "metadata": {},
   "source": [
    "Namen der Kategorien (Blumenarten)"
   ]
  },
  {
   "cell_type": "code",
   "execution_count": 51,
   "id": "75871740-5d9f-4ff3-8639-883d7589f456",
   "metadata": {},
   "outputs": [
    {
     "name": "stdout",
     "output_type": "stream",
     "text": [
      "Label 0 corresponds to neg\n",
      "Label 1 corresponds to pos\n"
     ]
    }
   ],
   "source": [
    "print(\"Label 0 corresponds to\", raw_train_ds.class_names[0])\n",
    "print(\"Label 1 corresponds to\", raw_train_ds.class_names[1])"
   ]
  },
  {
   "cell_type": "markdown",
   "id": "785fbeb3-8d28-4559-824e-89290080ae48",
   "metadata": {},
   "source": [
    "#### Validierungsdaten / Testdaten"
   ]
  },
  {
   "cell_type": "code",
   "execution_count": 52,
   "id": "acf3e270-3e54-46e5-8b1f-73187f05372a",
   "metadata": {},
   "outputs": [
    {
     "name": "stdout",
     "output_type": "stream",
     "text": [
      "Found 25000 files belonging to 2 classes.\n",
      "Using 5000 files for validation.\n"
     ]
    }
   ],
   "source": [
    "raw_val_ds = tf.keras.utils.text_dataset_from_directory(\n",
    "    train_dir, \n",
    "    batch_size=batch_size, \n",
    "    validation_split=0.2, \n",
    "    subset=\"validation\", \n",
    "    seed=seed\n",
    ")"
   ]
  },
  {
   "cell_type": "code",
   "execution_count": 53,
   "id": "53f497bf-fd83-496d-9ac3-143066df3a26",
   "metadata": {},
   "outputs": [
    {
     "name": "stdout",
     "output_type": "stream",
     "text": [
      "Found 25000 files belonging to 2 classes.\n"
     ]
    }
   ],
   "source": [
    "test_dir = Path(dataset_dir, \"test\").resolve()\n",
    "\n",
    "raw_test_ds = tf.keras.utils.text_dataset_from_directory(\n",
    "    test_dir,\n",
    "    batch_size=batch_size\n",
    ")"
   ]
  },
  {
   "cell_type": "markdown",
   "id": "08cfbc90-8809-4ae9-8fea-9a2123c314af",
   "metadata": {},
   "source": [
    "### Vorverarbeitung"
   ]
  },
  {
   "cell_type": "markdown",
   "id": "3ad12adb-8be8-439b-a385-273d9d546a32",
   "metadata": {},
   "source": [
    "#### Standardisierung"
   ]
  },
  {
   "cell_type": "code",
   "execution_count": 54,
   "id": "61b5ff88-ac1b-4732-b99e-a24a5f936f00",
   "metadata": {},
   "outputs": [],
   "source": [
    "def custom_standardization(input_data):\n",
    "    lowercase = tf.strings.lower(input_data)\n",
    "    stripped_html = tf.strings.regex_replace(lowercase, \"<br />\", \" \")\n",
    "    return tf.strings.regex_replace(stripped_html, \"[%s]\" % re.escape(string.punctuation), \"\")"
   ]
  },
  {
   "cell_type": "markdown",
   "id": "07c2a887-03d6-41f6-9662-b82e1819a9c2",
   "metadata": {},
   "source": [
    "#### Vektorisierung"
   ]
  },
  {
   "cell_type": "code",
   "execution_count": 55,
   "id": "a9619095-2237-4fc5-b9b7-45d6bcfcfb6b",
   "metadata": {},
   "outputs": [],
   "source": [
    "max_features = 10000\n",
    "sequence_length = 250\n",
    "\n",
    "vectorize_layer = keras.layers.TextVectorization(\n",
    "    standardize=custom_standardization,\n",
    "    max_tokens=max_features,\n",
    "    output_mode=\"int\",\n",
    "    output_sequence_length=sequence_length\n",
    ")"
   ]
  },
  {
   "cell_type": "code",
   "execution_count": 56,
   "id": "2b6a3397-a657-44de-9c0c-873f0ceffcbf",
   "metadata": {},
   "outputs": [],
   "source": [
    "# Make a text-only dataset (without labels), then call adapt\n",
    "train_text = raw_train_ds.map(lambda x, y: x)\n",
    "vectorize_layer.adapt(train_text)"
   ]
  },
  {
   "cell_type": "code",
   "execution_count": 57,
   "id": "60a19399-5e57-4287-ba5b-41130a3a1139",
   "metadata": {},
   "outputs": [],
   "source": [
    "def vectorize_text(text, label):\n",
    "    text = tf.expand_dims(text, -1)\n",
    "    return vectorize_layer(text), label"
   ]
  },
  {
   "cell_type": "markdown",
   "id": "9f3d8a0b-55f1-45ae-8e9f-e47e26a17491",
   "metadata": {},
   "source": [
    "### Vorverarbeitete Daten prüfen"
   ]
  },
  {
   "cell_type": "code",
   "execution_count": 58,
   "id": "3aa536a1-3d0d-40ae-a425-132b565d2063",
   "metadata": {},
   "outputs": [
    {
     "name": "stdout",
     "output_type": "stream",
     "text": [
      "Review tf.Tensor(b'Silent Night, Deadly Night 5 is the very last of the series, and like part 4, it\\'s unrelated to the first three except by title and the fact that it\\'s a Christmas-themed horror flick.<br /><br />Except to the oblivious, there\\'s some obvious things going on here...Mickey Rooney plays a toymaker named Joe Petto and his creepy son\\'s name is Pino. Ring a bell, anyone? Now, a little boy named Derek heard a knock at the door one evening, and opened it to find a present on the doorstep for him. Even though it said \"don\\'t open till Christmas\", he begins to open it anyway but is stopped by his dad, who scolds him and sends him to bed, and opens the gift himself. Inside is a little red ball that sprouts Santa arms and a head, and proceeds to kill dad. Oops, maybe he should have left well-enough alone. Of course Derek is then traumatized by the incident since he watched it from the stairs, but he doesn\\'t grow up to be some killer Santa, he just stops talking.<br /><br />There\\'s a mysterious stranger lurking around, who seems very interested in the toys that Joe Petto makes. We even see him buying a bunch when Derek\\'s mom takes him to the store to find a gift for him to bring him out of his trauma. And what exactly is this guy doing? Well, we\\'re not sure but he does seem to be taking these toys apart to see what makes them tick. He does keep his landlord from evicting him by promising him to pay him in cash the next day and presents him with a \"Larry the Larvae\" toy for his kid, but of course \"Larry\" is not a good toy and gets out of the box in the car and of course, well, things aren\\'t pretty.<br /><br />Anyway, eventually what\\'s going on with Joe Petto and Pino is of course revealed, and as with the old story, Pino is not a \"real boy\". Pino is probably even more agitated and naughty because he suffers from \"Kenitalia\" (a smooth plastic crotch) so that could account for his evil ways. And the identity of the lurking stranger is revealed too, and there\\'s even kind of a happy ending of sorts. Whee.<br /><br />A step up from part 4, but not much of one. Again, Brian Yuzna is involved, and Screaming Mad George, so some decent special effects, but not enough to make this great. A few leftovers from part 4 are hanging around too, like Clint Howard and Neith Hunter, but that doesn\\'t really make any difference. Anyway, I now have seeing the whole series out of my system. Now if I could get some of it out of my brain. 4 out of 5.', shape=(), dtype=string)\n",
      "Label neg\n",
      "Vectorized review (<tf.Tensor: shape=(1, 250), dtype=int64, numpy=\n",
      "array([[1287,  313, 2380,  313,  661,    7,    2,   52,  229,    5,    2,\n",
      "         200,    3,   38,  170,  669,   29, 5492,    6,    2,   83,  297,\n",
      "         549,   32,  410,    3,    2,  186,   12,   29,    4,    1,  191,\n",
      "         510,  549,    6,    2, 8229,  212,   46,  576,  175,  168,   20,\n",
      "           1, 5361,  290,    4,    1,  761,  969,    1,    3,   24,  935,\n",
      "        2271,  393,    7,    1, 1675,    4, 3747,  250,  148,    4,  112,\n",
      "         436,  761, 3529,  548,    4, 3633,   31,    2, 1331,   28, 2096,\n",
      "           3, 2912,    9,    6,  163,    4, 1006,   20,    2,    1,   15,\n",
      "          85,   53,  147,    9,  292,   89,  959, 2314,  984,   27,  762,\n",
      "           6,  959,    9,  564,   18,    7, 2140,   32,   24, 1254,   36,\n",
      "           1,   85,    3, 3298,   85,    6, 1410,    3, 1936,    2, 3408,\n",
      "         301,  965,    7,    4,  112,  740, 1977,   12,    1, 2014, 2772,\n",
      "           3,    4,  428,    3, 5177,    6,  512, 1254,    1,  278,   27,\n",
      "         139,   25,  308,    1,  579,    5,  259, 3529,    7,   92, 8981,\n",
      "          32,    2, 3842,  230,   27,  289,    9,   35,    2, 5712,   18,\n",
      "          27,  144, 2166,   56,    6,   26,   46,  466, 2014,   27,   40,\n",
      "        2745,  657,  212,    4, 1376, 3002, 7080,  183,   36,  180,   52,\n",
      "         920,    8,    2, 4028,   12,  969,    1,  158,   71,   53,   67,\n",
      "          85, 2754,    4,  734,   51,    1, 1611,  294,   85,    6,    2,\n",
      "        1164,    6,  163,    4, 3408,   15,   85,    6,  717,   85,   44,\n",
      "           5,   24, 7158,    3,   48,  604,    7,   11,  225,  384,   73,\n",
      "          65,   21,  242,   18,   27,  120,  295,    6,   26,  667,  129,\n",
      "        4028,  948,    6,   67,   48,  158,   93,    1]])>, <tf.Tensor: shape=(), dtype=int32, numpy=0>)\n"
     ]
    }
   ],
   "source": [
    "# Retrieve a batch (of 32 reviews and labels) from the dataset\n",
    "text_batch, label_batch = next(iter(raw_train_ds))\n",
    "first_review, first_label = text_batch[0], label_batch[0]\n",
    "print(\"Review\", first_review)\n",
    "print(\"Label\", raw_train_ds.class_names[first_label])\n",
    "print(\"Vectorized review\", vectorize_text(first_review, first_label))"
   ]
  },
  {
   "cell_type": "code",
   "execution_count": 59,
   "id": "e30b029c-f2ce-4ff7-8501-cbdadb38aae4",
   "metadata": {},
   "outputs": [
    {
     "name": "stdout",
     "output_type": "stream",
     "text": [
      "Vocabulary size: 10000\n",
      "1287 ---> silent\n",
      " 313 ---> night\n",
      "2380 ---> deadly\n",
      " 313 ---> night\n",
      " 661 ---> 5\n",
      "   7 ---> is\n",
      "   2 ---> the\n",
      "  52 ---> very\n",
      " 229 ---> last\n",
      "   5 ---> of\n"
     ]
    }
   ],
   "source": [
    "first_vec = vectorize_text(first_review, first_label)[0].numpy()[0]\n",
    "\n",
    "print(\"Vocabulary size: {}\".format(len(vectorize_layer.get_vocabulary())))\n",
    "for i in range(10):\n",
    "    print(f\"{first_vec[i]:4} ---> {vectorize_layer.get_vocabulary()[first_vec[i]]}\")"
   ]
  },
  {
   "cell_type": "markdown",
   "id": "2e824973-c7ec-4dad-9faf-c27582937f9c",
   "metadata": {},
   "source": [
    "### Datasets erstellen und konfigurieren"
   ]
  },
  {
   "cell_type": "code",
   "execution_count": 60,
   "id": "15a7dfc0-9b31-48a3-b4df-9fb18b613024",
   "metadata": {},
   "outputs": [],
   "source": [
    "train_ds = raw_train_ds.map(vectorize_text)\n",
    "val_ds = raw_val_ds.map(vectorize_text)\n",
    "test_ds = raw_test_ds.map(vectorize_text)"
   ]
  },
  {
   "cell_type": "code",
   "execution_count": 25,
   "id": "3483b376-7437-4277-b521-2cb96f10b720",
   "metadata": {},
   "outputs": [],
   "source": [
    "# model_path = \"/home/juan/jupyter_projects_ML/05_vorlesung_NaturalLanguageProcessing/nlp/saved_model\""
   ]
  },
  {
   "cell_type": "code",
   "execution_count": 26,
   "id": "aee81a30-3658-48e6-ad5c-c0efd445d926",
   "metadata": {},
   "outputs": [],
   "source": [
    "# print(os.listdir('/home/juan/jupyter_projects_ML/05_vorlesung_NaturalLanguageProcessing/nlp/saved_model')"
   ]
  },
  {
   "cell_type": "code",
   "execution_count": 27,
   "id": "817e4031-d602-4840-9774-6f9b67e12c10",
   "metadata": {},
   "outputs": [],
   "source": [
    "# ep = tf.keras.models.load_model('/zu nlp')"
   ]
  },
  {
   "cell_type": "code",
   "execution_count": 61,
   "id": "40bf8ef1-7692-4959-9241-7d5283fc0dc0",
   "metadata": {},
   "outputs": [],
   "source": [
    "test_ds = test_ds.cache().prefetch(buffer_size = tf.data.AUTOTUNE)"
   ]
  },
  {
   "cell_type": "code",
   "execution_count": 62,
   "id": "12e3148a-d00f-4e6f-8fc0-a69a3df1a569",
   "metadata": {},
   "outputs": [],
   "source": [
    "AUTOTUNE = tf.data.AUTOTUNE\n",
    "\n",
    "train_ds = train_ds.cache().prefetch(buffer_size=AUTOTUNE)\n",
    "val_ds = val_ds.cache().prefetch(buffer_size=AUTOTUNE)\n",
    "test_ds = test_ds.cache().prefetch(buffer_size=AUTOTUNE)"
   ]
  },
  {
   "cell_type": "markdown",
   "id": "4c6b9010-2abb-43c3-aef2-8d96add0cb9d",
   "metadata": {},
   "source": [
    "## Modell aufbauen"
   ]
  },
  {
   "cell_type": "markdown",
   "id": "7ace46e1-1eaa-4829-8dfb-8dd1a235145f",
   "metadata": {},
   "source": [
    "Schichten des Modells spezifizieren"
   ]
  },
  {
   "cell_type": "code",
   "execution_count": 63,
   "id": "e856d4d6-58f7-46f2-ba47-60ca7565820b",
   "metadata": {},
   "outputs": [],
   "source": [
    "embedding_dim = 16\n",
    "\n",
    "model = keras.Sequential([\n",
    "    keras.layers.Embedding(max_features, embedding_dim),\n",
    "    keras.layers.Dropout(0.2),\n",
    "    keras.layers.GlobalAveragePooling1D(),\n",
    "    keras.layers.Dropout(0.2),\n",
    "    keras.layers.Dense(1)\n",
    "])"
   ]
  },
  {
   "cell_type": "code",
   "execution_count": 64,
   "id": "7a32a249-5161-40f5-9e70-577ad5f8a490",
   "metadata": {},
   "outputs": [],
   "source": [
    "model.build()"
   ]
  },
  {
   "cell_type": "code",
   "execution_count": 67,
   "id": "ce5f21d7-74f1-4e33-bdc9-aca3e4e95e62",
   "metadata": {},
   "outputs": [
    {
     "name": "stdout",
     "output_type": "stream",
     "text": [
      "Requirement already satisfied: graphviz in /home/juan/miniconda3/envs/ml-modul-24/lib/python3.11/site-packages (0.20.3)\n"
     ]
    }
   ],
   "source": [
    "!pip install graphviz"
   ]
  },
  {
   "cell_type": "markdown",
   "id": "f4f05836-61f6-442c-82d2-1cb6bf196cf2",
   "metadata": {},
   "source": [
    "Die Embedding-Schicht zu Beginn des Modells bildet die 10.000 Wörter des Vokabulars auf einen 16-dimensionalen Embedding-Vektor ab. Das Embedding wird beim Training des Modells mit trainiert. Mehr dazu: <https://www.tensorflow.org/text/guide/word_embeddings>"
   ]
  },
  {
   "cell_type": "code",
   "execution_count": 65,
   "id": "b36adc89-3898-4fa2-9230-e8a88d88127f",
   "metadata": {},
   "outputs": [
    {
     "data": {
      "text/html": [
       "<pre style=\"white-space:pre;overflow-x:auto;line-height:normal;font-family:Menlo,'DejaVu Sans Mono',consolas,'Courier New',monospace\"><span style=\"font-weight: bold\">Model: \"sequential_1\"</span>\n",
       "</pre>\n"
      ],
      "text/plain": [
       "\u001b[1mModel: \"sequential_1\"\u001b[0m\n"
      ]
     },
     "metadata": {},
     "output_type": "display_data"
    },
    {
     "data": {
      "text/html": [
       "<pre style=\"white-space:pre;overflow-x:auto;line-height:normal;font-family:Menlo,'DejaVu Sans Mono',consolas,'Courier New',monospace\">┏━━━━━━━━━━━━━━━━━━━━━━━━━━━━━━━━━┳━━━━━━━━━━━━━━━━━━━━━━━━┳━━━━━━━━━━━━━━━┓\n",
       "┃<span style=\"font-weight: bold\"> Layer (type)                    </span>┃<span style=\"font-weight: bold\"> Output Shape           </span>┃<span style=\"font-weight: bold\">       Param # </span>┃\n",
       "┡━━━━━━━━━━━━━━━━━━━━━━━━━━━━━━━━━╇━━━━━━━━━━━━━━━━━━━━━━━━╇━━━━━━━━━━━━━━━┩\n",
       "│ embedding_1 (<span style=\"color: #0087ff; text-decoration-color: #0087ff\">Embedding</span>)         │ ?                      │   <span style=\"color: #00af00; text-decoration-color: #00af00\">0</span> (unbuilt) │\n",
       "├─────────────────────────────────┼────────────────────────┼───────────────┤\n",
       "│ dropout_2 (<span style=\"color: #0087ff; text-decoration-color: #0087ff\">Dropout</span>)             │ ?                      │             <span style=\"color: #00af00; text-decoration-color: #00af00\">0</span> │\n",
       "├─────────────────────────────────┼────────────────────────┼───────────────┤\n",
       "│ global_average_pooling1d_1      │ ?                      │             <span style=\"color: #00af00; text-decoration-color: #00af00\">0</span> │\n",
       "│ (<span style=\"color: #0087ff; text-decoration-color: #0087ff\">GlobalAveragePooling1D</span>)        │                        │               │\n",
       "├─────────────────────────────────┼────────────────────────┼───────────────┤\n",
       "│ dropout_3 (<span style=\"color: #0087ff; text-decoration-color: #0087ff\">Dropout</span>)             │ ?                      │             <span style=\"color: #00af00; text-decoration-color: #00af00\">0</span> │\n",
       "├─────────────────────────────────┼────────────────────────┼───────────────┤\n",
       "│ dense_1 (<span style=\"color: #0087ff; text-decoration-color: #0087ff\">Dense</span>)                 │ ?                      │   <span style=\"color: #00af00; text-decoration-color: #00af00\">0</span> (unbuilt) │\n",
       "└─────────────────────────────────┴────────────────────────┴───────────────┘\n",
       "</pre>\n"
      ],
      "text/plain": [
       "┏━━━━━━━━━━━━━━━━━━━━━━━━━━━━━━━━━┳━━━━━━━━━━━━━━━━━━━━━━━━┳━━━━━━━━━━━━━━━┓\n",
       "┃\u001b[1m \u001b[0m\u001b[1mLayer (type)                   \u001b[0m\u001b[1m \u001b[0m┃\u001b[1m \u001b[0m\u001b[1mOutput Shape          \u001b[0m\u001b[1m \u001b[0m┃\u001b[1m \u001b[0m\u001b[1m      Param #\u001b[0m\u001b[1m \u001b[0m┃\n",
       "┡━━━━━━━━━━━━━━━━━━━━━━━━━━━━━━━━━╇━━━━━━━━━━━━━━━━━━━━━━━━╇━━━━━━━━━━━━━━━┩\n",
       "│ embedding_1 (\u001b[38;5;33mEmbedding\u001b[0m)         │ ?                      │   \u001b[38;5;34m0\u001b[0m (unbuilt) │\n",
       "├─────────────────────────────────┼────────────────────────┼───────────────┤\n",
       "│ dropout_2 (\u001b[38;5;33mDropout\u001b[0m)             │ ?                      │             \u001b[38;5;34m0\u001b[0m │\n",
       "├─────────────────────────────────┼────────────────────────┼───────────────┤\n",
       "│ global_average_pooling1d_1      │ ?                      │             \u001b[38;5;34m0\u001b[0m │\n",
       "│ (\u001b[38;5;33mGlobalAveragePooling1D\u001b[0m)        │                        │               │\n",
       "├─────────────────────────────────┼────────────────────────┼───────────────┤\n",
       "│ dropout_3 (\u001b[38;5;33mDropout\u001b[0m)             │ ?                      │             \u001b[38;5;34m0\u001b[0m │\n",
       "├─────────────────────────────────┼────────────────────────┼───────────────┤\n",
       "│ dense_1 (\u001b[38;5;33mDense\u001b[0m)                 │ ?                      │   \u001b[38;5;34m0\u001b[0m (unbuilt) │\n",
       "└─────────────────────────────────┴────────────────────────┴───────────────┘\n"
      ]
     },
     "metadata": {},
     "output_type": "display_data"
    },
    {
     "data": {
      "text/html": [
       "<pre style=\"white-space:pre;overflow-x:auto;line-height:normal;font-family:Menlo,'DejaVu Sans Mono',consolas,'Courier New',monospace\"><span style=\"font-weight: bold\"> Total params: </span><span style=\"color: #00af00; text-decoration-color: #00af00\">0</span> (0.00 B)\n",
       "</pre>\n"
      ],
      "text/plain": [
       "\u001b[1m Total params: \u001b[0m\u001b[38;5;34m0\u001b[0m (0.00 B)\n"
      ]
     },
     "metadata": {},
     "output_type": "display_data"
    },
    {
     "data": {
      "text/html": [
       "<pre style=\"white-space:pre;overflow-x:auto;line-height:normal;font-family:Menlo,'DejaVu Sans Mono',consolas,'Courier New',monospace\"><span style=\"font-weight: bold\"> Trainable params: </span><span style=\"color: #00af00; text-decoration-color: #00af00\">0</span> (0.00 B)\n",
       "</pre>\n"
      ],
      "text/plain": [
       "\u001b[1m Trainable params: \u001b[0m\u001b[38;5;34m0\u001b[0m (0.00 B)\n"
      ]
     },
     "metadata": {},
     "output_type": "display_data"
    },
    {
     "data": {
      "text/html": [
       "<pre style=\"white-space:pre;overflow-x:auto;line-height:normal;font-family:Menlo,'DejaVu Sans Mono',consolas,'Courier New',monospace\"><span style=\"font-weight: bold\"> Non-trainable params: </span><span style=\"color: #00af00; text-decoration-color: #00af00\">0</span> (0.00 B)\n",
       "</pre>\n"
      ],
      "text/plain": [
       "\u001b[1m Non-trainable params: \u001b[0m\u001b[38;5;34m0\u001b[0m (0.00 B)\n"
      ]
     },
     "metadata": {},
     "output_type": "display_data"
    }
   ],
   "source": [
    "model.summary()"
   ]
  },
  {
   "cell_type": "code",
   "execution_count": 66,
   "id": "c18f2595-8e54-4617-8b5e-9bb3fbe407a7",
   "metadata": {},
   "outputs": [
    {
     "name": "stdout",
     "output_type": "stream",
     "text": [
      "You must install graphviz (see instructions at https://graphviz.gitlab.io/download/) for `plot_model` to work.\n"
     ]
    }
   ],
   "source": [
    "keras.utils.plot_model(\n",
    "    model,\n",
    "    show_layer_names=False,\n",
    "    show_layer_activations=True,\n",
    "    show_shapes=True,\n",
    "    #to_file=\"fashion_mnist_cnn.png\",\n",
    "    #dpi=None\n",
    ")"
   ]
  },
  {
   "cell_type": "markdown",
   "id": "ebbe8ce7-2e81-42cc-85b4-fb8fa06c7289",
   "metadata": {},
   "source": [
    "## Modell trainieren"
   ]
  },
  {
   "cell_type": "markdown",
   "id": "0001f29c-30ab-4546-898a-971f8dbd1cd4",
   "metadata": {},
   "source": [
    "Hyperparameter festlegen (zu verwendender Optimizer, Fehlerfunktion / Loss, zu erfassende Metriken)"
   ]
  },
  {
   "cell_type": "code",
   "execution_count": 68,
   "id": "9b645c5b-9725-4891-8956-23c3bca5753e",
   "metadata": {},
   "outputs": [],
   "source": [
    "model.compile(optimizer=\"adam\",\n",
    "              loss=keras.losses.BinaryCrossentropy(from_logits=True), # es war True\n",
    "              metrics=[tf.metrics.BinaryAccuracy(threshold=0.0)])"
   ]
  },
  {
   "cell_type": "code",
   "execution_count": 69,
   "id": "c029d9c5-8d00-432b-bd64-b792137f4233",
   "metadata": {},
   "outputs": [
    {
     "name": "stdout",
     "output_type": "stream",
     "text": [
      "Epoch 1/10\n",
      "\u001b[1m625/625\u001b[0m \u001b[32m━━━━━━━━━━━━━━━━━━━━\u001b[0m\u001b[37m\u001b[0m \u001b[1m5s\u001b[0m 6ms/step - binary_accuracy: 0.5834 - loss: 0.6810 - val_binary_accuracy: 0.7360 - val_loss: 0.6096\n",
      "Epoch 2/10\n",
      "\u001b[1m625/625\u001b[0m \u001b[32m━━━━━━━━━━━━━━━━━━━━\u001b[0m\u001b[37m\u001b[0m \u001b[1m3s\u001b[0m 4ms/step - binary_accuracy: 0.7618 - loss: 0.5758 - val_binary_accuracy: 0.8150 - val_loss: 0.4938\n",
      "Epoch 3/10\n",
      "\u001b[1m625/625\u001b[0m \u001b[32m━━━━━━━━━━━━━━━━━━━━\u001b[0m\u001b[37m\u001b[0m \u001b[1m3s\u001b[0m 4ms/step - binary_accuracy: 0.8281 - loss: 0.4619 - val_binary_accuracy: 0.8346 - val_loss: 0.4232\n",
      "Epoch 4/10\n",
      "\u001b[1m625/625\u001b[0m \u001b[32m━━━━━━━━━━━━━━━━━━━━\u001b[0m\u001b[37m\u001b[0m \u001b[1m3s\u001b[0m 4ms/step - binary_accuracy: 0.8520 - loss: 0.3919 - val_binary_accuracy: 0.8400 - val_loss: 0.3853\n",
      "Epoch 5/10\n",
      "\u001b[1m625/625\u001b[0m \u001b[32m━━━━━━━━━━━━━━━━━━━━\u001b[0m\u001b[37m\u001b[0m \u001b[1m3s\u001b[0m 4ms/step - binary_accuracy: 0.8672 - loss: 0.3469 - val_binary_accuracy: 0.8526 - val_loss: 0.3576\n",
      "Epoch 6/10\n",
      "\u001b[1m625/625\u001b[0m \u001b[32m━━━━━━━━━━━━━━━━━━━━\u001b[0m\u001b[37m\u001b[0m \u001b[1m3s\u001b[0m 4ms/step - binary_accuracy: 0.8810 - loss: 0.3134 - val_binary_accuracy: 0.8512 - val_loss: 0.3452\n",
      "Epoch 7/10\n",
      "\u001b[1m625/625\u001b[0m \u001b[32m━━━━━━━━━━━━━━━━━━━━\u001b[0m\u001b[37m\u001b[0m \u001b[1m3s\u001b[0m 4ms/step - binary_accuracy: 0.8925 - loss: 0.2888 - val_binary_accuracy: 0.8544 - val_loss: 0.3336\n",
      "Epoch 8/10\n",
      "\u001b[1m625/625\u001b[0m \u001b[32m━━━━━━━━━━━━━━━━━━━━\u001b[0m\u001b[37m\u001b[0m \u001b[1m3s\u001b[0m 4ms/step - binary_accuracy: 0.8999 - loss: 0.2693 - val_binary_accuracy: 0.8532 - val_loss: 0.3277\n",
      "Epoch 9/10\n",
      "\u001b[1m625/625\u001b[0m \u001b[32m━━━━━━━━━━━━━━━━━━━━\u001b[0m\u001b[37m\u001b[0m \u001b[1m3s\u001b[0m 4ms/step - binary_accuracy: 0.9098 - loss: 0.2524 - val_binary_accuracy: 0.8626 - val_loss: 0.3152\n",
      "Epoch 10/10\n",
      "\u001b[1m625/625\u001b[0m \u001b[32m━━━━━━━━━━━━━━━━━━━━\u001b[0m\u001b[37m\u001b[0m \u001b[1m3s\u001b[0m 4ms/step - binary_accuracy: 0.9137 - loss: 0.2374 - val_binary_accuracy: 0.8598 - val_loss: 0.3151\n"
     ]
    }
   ],
   "source": [
    "epochs=10\n",
    "\n",
    "history = model.fit(\n",
    "    train_ds,\n",
    "    validation_data=val_ds,\n",
    "    epochs=epochs\n",
    ")"
   ]
  },
  {
   "cell_type": "code",
   "execution_count": 70,
   "id": "5ad7683d-8097-42e0-83ee-dcb349b412ba",
   "metadata": {},
   "outputs": [],
   "source": [
    "from mllib.results import plot_history\n",
    "\n",
    "plot_history(history, [\"binary_accuracy\", \"loss\"], show_val=True)\n"
   ]
  },
  {
   "cell_type": "markdown",
   "id": "8a0306af-7524-4dfd-9131-6f56877811f1",
   "metadata": {},
   "source": [
    "## Ergebnisse auswerten"
   ]
  },
  {
   "cell_type": "code",
   "execution_count": 71,
   "id": "1e7dae3a-9432-443f-8354-dcd4e3f73753",
   "metadata": {},
   "outputs": [
    {
     "name": "stdout",
     "output_type": "stream",
     "text": [
      "\u001b[1m782/782\u001b[0m \u001b[32m━━━━━━━━━━━━━━━━━━━━\u001b[0m\u001b[37m\u001b[0m \u001b[1m2s\u001b[0m 2ms/step - binary_accuracy: 0.8542 - loss: 0.3327\n",
      "Loss:  0.3335760533809662\n",
      "Accuracy:  0.8543999791145325\n"
     ]
    }
   ],
   "source": [
    "loss, accuracy = model.evaluate(test_ds)\n",
    "\n",
    "print(\"Loss: \", loss)\n",
    "print(\"Accuracy: \", accuracy)"
   ]
  },
  {
   "cell_type": "markdown",
   "id": "4590d9d5-3752-4b0c-a229-2e1145100db4",
   "metadata": {},
   "source": [
    "### Trainierte Embedding-Schicht analysieren"
   ]
  },
  {
   "cell_type": "code",
   "execution_count": 72,
   "id": "12f6f6a9-f223-486b-a163-5ab283e5e20a",
   "metadata": {},
   "outputs": [
    {
     "data": {
      "text/plain": [
       "[<Embedding name=embedding_1, built=True>,\n",
       " <Dropout name=dropout_2, built=True>,\n",
       " <GlobalAveragePooling1D name=global_average_pooling1d_1, built=True>,\n",
       " <Dropout name=dropout_3, built=True>,\n",
       " <Dense name=dense_1, built=True>]"
      ]
     },
     "execution_count": 72,
     "metadata": {},
     "output_type": "execute_result"
    }
   ],
   "source": [
    "model.layers"
   ]
  },
  {
   "cell_type": "code",
   "execution_count": 73,
   "id": "3e8a7657-5d88-4914-b843-89702ff5c3be",
   "metadata": {},
   "outputs": [],
   "source": [
    "embedding_layer = model.layers[0]"
   ]
  },
  {
   "cell_type": "code",
   "execution_count": 74,
   "id": "a8af21fe-a618-4514-89b5-dba66692350e",
   "metadata": {},
   "outputs": [],
   "source": [
    "weights = embedding_layer.weights[0].numpy()\n",
    "vocab = vectorize_layer.get_vocabulary()"
   ]
  },
  {
   "cell_type": "code",
   "execution_count": 75,
   "id": "7c3753c4-ce38-44be-9c3b-3e9e768210b6",
   "metadata": {},
   "outputs": [
    {
     "data": {
      "text/plain": [
       "array([[-0.06595357,  0.01236325, -0.0109098 , ...,  0.00267598,\n",
       "        -0.07015956, -0.03704429],\n",
       "       [-0.0418819 ,  0.03703156,  0.00612457, ...,  0.09972071,\n",
       "         0.05306863, -0.03664163],\n",
       "       [ 0.08719296,  0.11612292, -0.04933133, ...,  0.11510288,\n",
       "        -0.16055892,  0.12062909],\n",
       "       ...,\n",
       "       [-0.44143885, -0.4303205 , -0.46561548, ..., -0.484634  ,\n",
       "         0.4209385 , -0.36969486],\n",
       "       [ 0.54338264,  0.55184233,  0.68631583, ...,  0.5729497 ,\n",
       "        -0.63059247,  0.61514163],\n",
       "       [-0.25837228, -0.11180996, -0.10368896, ..., -0.2265697 ,\n",
       "         0.14242382, -0.18597029]], dtype=float32)"
      ]
     },
     "execution_count": 75,
     "metadata": {},
     "output_type": "execute_result"
    }
   ],
   "source": [
    "weights"
   ]
  },
  {
   "cell_type": "markdown",
   "id": "dbd1a198-8968-4212-9892-f59ba31cd81b",
   "metadata": {},
   "source": [
    "#### Word Embeddings für den TensorFlow Embedding Projector exportieren\n",
    "<https://projector.tensorflow.org/>"
   ]
  },
  {
   "cell_type": "code",
   "execution_count": 76,
   "id": "875517a3-d8fa-4b37-9a9e-d3a385fd7016",
   "metadata": {},
   "outputs": [],
   "source": [
    "import io\n",
    "\n",
    "out_v = io.open(\"imdb_nlp_vectors.tsv\", \"w\", encoding=\"utf-8\")\n",
    "out_m = io.open(\"imdb_nlp_metadata.tsv\", \"w\", encoding=\"utf-8\")\n",
    "\n",
    "for index, word in enumerate(vocab):\n",
    "    if index == 0:\n",
    "        continue  # skip 0, it's padding.\n",
    "    vec = weights[index]\n",
    "    out_v.write(\"\\t\".join([str(x) for x in vec]) + \"\\n\")\n",
    "    out_m.write(word + \"\\n\")\n",
    "out_v.close()\n",
    "out_m.close()"
   ]
  },
  {
   "cell_type": "markdown",
   "id": "a907b87c-e304-4c76-aae8-713f90857d6d",
   "metadata": {},
   "source": [
    "#### Embeddings an Beispiel Testen"
   ]
  },
  {
   "cell_type": "code",
   "execution_count": 77,
   "id": "e498eb21-e661-4af0-82eb-8dc9b843f9de",
   "metadata": {},
   "outputs": [
    {
     "name": "stdout",
     "output_type": "stream",
     "text": [
      "Review tf.Tensor(b'Belmondo is a tough cop. He goes after a big-time drug dealer (played by Henry Silva, normally a great villain - see \"Sharky\\'s Machine\"; but here he is clearly dubbed, and because of that he lacks his usual charisma). He goes to the scuzziest places of Paris and Marseilles, asks for some names, beats up some people, gets the names, goes to more scuzzy places, asks for more names, beats up more people, etc. The whole movie is punch after punch after punch. It seems that the people who made it had no other ambition than to create the French equivalent of \"Dirty Harry\". Belmondo, who was 50 here, does perform some good stunts at the beginning; apart from those, \"Le Marginal\" is a violent, episodic, trite, shallow and forgettable cop movie. (*1/2)', shape=(), dtype=string)\n",
      "Label neg\n",
      "Vectorized review [   1    7    4 1233 1021   27  261  101    4    1 1525 6992  248   32\n",
      " 1488    1 1659    4   86 1011   67    1 1707   18  128   27    7  688\n",
      " 2396    3   84    5   12   27 1453   24  616 3314   27  261    6    2\n",
      "    1 1329    5 1371    3    1 1581   15   46 1356 3612   56   46   79\n",
      "  201    2 1356  261    6   50    1 1329 1581   15   50 1356 3612   56\n",
      "   50   79  532    2  211   17    7 2851  101 2851  101 2851    9  180\n",
      "   12    2   79   36   90    9   66   57   78 5415   70    6  916    2\n",
      "  800 4891    5 1678 1347    1   36   13 1732  128  120 3078   46   49\n",
      " 3274   31    2  435  948   35  143 3519    1    7    4 1097 9578 3092\n",
      " 2056    3 2512 1021   17 1105    0    0    0    0    0    0    0    0\n",
      "    0    0    0    0    0    0    0    0    0    0    0    0    0    0\n",
      "    0    0    0    0    0    0    0    0    0    0    0    0    0    0\n",
      "    0    0    0    0    0    0    0    0    0    0    0    0    0    0\n",
      "    0    0    0    0    0    0    0    0    0    0    0    0    0    0\n",
      "    0    0    0    0    0    0    0    0    0    0    0    0    0    0\n",
      "    0    0    0    0    0    0    0    0    0    0    0    0    0    0\n",
      "    0    0    0    0    0    0    0    0    0    0    0    0    0    0\n",
      "    0    0    0    0    0    0    0    0    0    0    0    0]\n"
     ]
    }
   ],
   "source": [
    "# Retrieve a batch (of 32 reviews and labels) from the dataset\n",
    "text_batch, label_batch = next(iter(raw_train_ds))\n",
    "first_review, first_label = text_batch[0], label_batch[0]\n",
    "first_vec = vectorize_text(first_review, first_label)[0].numpy()[0]\n",
    "print(\"Review\", first_review)\n",
    "print(\"Label\", raw_train_ds.class_names[first_label])\n",
    "print(\"Vectorized review\", first_vec)"
   ]
  },
  {
   "cell_type": "markdown",
   "id": "7d9dff2d-5574-4bef-ad79-37e37292754d",
   "metadata": {},
   "source": [
    "Embeddings für die 250 Tokens des vektorisierten Inputs"
   ]
  },
  {
   "cell_type": "code",
   "execution_count": 78,
   "id": "5cdbfa40-b951-482b-a54a-b85b19d8c489",
   "metadata": {},
   "outputs": [
    {
     "data": {
      "text/plain": [
       "<tf.Tensor: shape=(250, 16), dtype=float32, numpy=\n",
       "array([[-0.0418819 ,  0.03703156,  0.00612457, ...,  0.09972071,\n",
       "         0.05306863, -0.03664163],\n",
       "       [ 0.193687  ,  0.12569934,  0.13497853, ...,  0.21636027,\n",
       "        -0.16167307,  0.13090731],\n",
       "       [ 0.12693381,  0.14370441,  0.07343676, ...,  0.10255984,\n",
       "        -0.0634936 ,  0.0353114 ],\n",
       "       ...,\n",
       "       [-0.06595357,  0.01236325, -0.0109098 , ...,  0.00267598,\n",
       "        -0.07015956, -0.03704429],\n",
       "       [-0.06595357,  0.01236325, -0.0109098 , ...,  0.00267598,\n",
       "        -0.07015956, -0.03704429],\n",
       "       [-0.06595357,  0.01236325, -0.0109098 , ...,  0.00267598,\n",
       "        -0.07015956, -0.03704429]], dtype=float32)>"
      ]
     },
     "execution_count": 78,
     "metadata": {},
     "output_type": "execute_result"
    }
   ],
   "source": [
    "first_embeddings = embedding_layer(first_vec)\n",
    "first_embeddings"
   ]
  },
  {
   "cell_type": "markdown",
   "id": "4870ea29-55a7-4659-898f-0842d8fc030d",
   "metadata": {},
   "source": [
    "Mittelwertbildung durch GlobalAveragePooling1D um das gesamte Review zu repräsentieren"
   ]
  },
  {
   "cell_type": "code",
   "execution_count": 79,
   "id": "24bb17c5-6423-4c6f-a4f7-81a61bb99f30",
   "metadata": {},
   "outputs": [
    {
     "data": {
      "text/plain": [
       "<tf.Tensor: shape=(1, 16), dtype=float32, numpy=\n",
       "array([[-0.03604165,  0.00350043, -0.01385257,  0.01954268,  0.02840083,\n",
       "         0.04616878,  0.02334546,  0.01554804, -0.05284085,  0.0092675 ,\n",
       "        -0.01328275,  0.0404039 ,  0.02077501, -0.00366351, -0.03656267,\n",
       "        -0.03485798]], dtype=float32)>"
      ]
     },
     "execution_count": 79,
     "metadata": {},
     "output_type": "execute_result"
    }
   ],
   "source": [
    "keras.layers.GlobalAveragePooling1D()(tf.expand_dims(first_embeddings, axis=0))"
   ]
  },
  {
   "cell_type": "markdown",
   "id": "27f7c5c7-a440-4907-8a8b-9038019c3225",
   "metadata": {},
   "source": [
    "### End-to-end Modell erstellen und exportieren"
   ]
  },
  {
   "cell_type": "code",
   "execution_count": 80,
   "id": "48f8dbb5-b4ec-40e8-ac65-8146ef9a6564",
   "metadata": {},
   "outputs": [],
   "source": [
    "export_model = tf.keras.Sequential([\n",
    "    vectorize_layer,\n",
    "    model,\n",
    "    keras.layers.Activation(\"sigmoid\") #sigmoid\n",
    "])"
   ]
  },
  {
   "cell_type": "code",
   "execution_count": 81,
   "id": "12db93c6-ff38-4f6a-8088-afc488bb25fa",
   "metadata": {},
   "outputs": [],
   "source": [
    "export_model.compile(\n",
    "    loss=keras.losses.BinaryCrossentropy(from_logits=False), optimizer=\"adam\", metrics=[\"accuracy\"]\n",
    ")"
   ]
  },
  {
   "cell_type": "markdown",
   "id": "480acd7e-4cc0-488a-be1b-4df35606911f",
   "metadata": {},
   "source": [
    "End-to-end Modell mit den Rohdaten (unverarbeitete String mit den Reviews) testen"
   ]
  },
  {
   "cell_type": "code",
   "execution_count": 82,
   "id": "244c2e08-1964-4880-9fa5-0dbe9a0533ed",
   "metadata": {},
   "outputs": [
    {
     "name": "stdout",
     "output_type": "stream",
     "text": [
      "\u001b[1m782/782\u001b[0m \u001b[32m━━━━━━━━━━━━━━━━━━━━\u001b[0m\u001b[37m\u001b[0m \u001b[1m3s\u001b[0m 3ms/step - accuracy: 0.8545 - loss: 0.3320\n",
      "0.8543999791145325\n"
     ]
    }
   ],
   "source": [
    "# Test it with `raw_test_ds`, which yields raw strings\n",
    "loss, accuracy = export_model.evaluate(raw_test_ds)\n",
    "print(accuracy)"
   ]
  },
  {
   "cell_type": "markdown",
   "id": "7f62befe-7530-4aba-a8e0-cd0d3b7783d3",
   "metadata": {},
   "source": [
    "Mit weiteren Beispiel-Inputs testen"
   ]
  },
  {
   "cell_type": "code",
   "execution_count": 83,
   "id": "45c42d74-5986-40ee-9ec2-832803776632",
   "metadata": {},
   "outputs": [],
   "source": [
    "examples = [\n",
    "    \"The movie was great!\",\n",
    "    \"The movie was okay.\",\n",
    "    \"The movie was terrible...\"\n",
    "]\n",
    "# export_model.predict(examples)"
   ]
  },
  {
   "cell_type": "markdown",
   "id": "88c7a276-9a88-42a1-a372-95628ebc1925",
   "metadata": {},
   "source": [
    "### Auswertung der Modell-Performance"
   ]
  },
  {
   "cell_type": "markdown",
   "id": "2d59c930-c95d-4fef-a63c-f1d9280c5226",
   "metadata": {},
   "source": [
    "Vorhersagen für alle Datenpunkte des Test-Datensatzes berechnen"
   ]
  },
  {
   "cell_type": "code",
   "execution_count": 84,
   "id": "7576a9de-5cd5-4139-813a-df35d9ec3fcf",
   "metadata": {},
   "outputs": [
    {
     "name": "stdout",
     "output_type": "stream",
     "text": [
      "\u001b[1m157/157\u001b[0m \u001b[32m━━━━━━━━━━━━━━━━━━━━\u001b[0m\u001b[37m\u001b[0m \u001b[1m0s\u001b[0m 2ms/step\n"
     ]
    }
   ],
   "source": [
    "y_test_pred_logits = model.predict(val_ds)\n",
    "y_test_pred = keras.layers.Activation(\"sigmoid\")(y_test_pred_logits)#sigmoid"
   ]
  },
  {
   "cell_type": "markdown",
   "id": "9af14d4e-fc23-415f-82ec-df128b85d613",
   "metadata": {},
   "source": [
    "Beispiele überprüfen"
   ]
  },
  {
   "cell_type": "code",
   "execution_count": 85,
   "id": "386c7de3-88a4-4df9-9553-082a9acea88a",
   "metadata": {},
   "outputs": [
    {
     "data": {
      "text/plain": [
       "<tf.Tensor: shape=(5000, 1), dtype=float32, numpy=\n",
       "array([[0.10016247],\n",
       "       [0.33519688],\n",
       "       [0.2725758 ],\n",
       "       ...,\n",
       "       [0.00123527],\n",
       "       [0.04514363],\n",
       "       [0.335475  ]], dtype=float32)>"
      ]
     },
     "execution_count": 85,
     "metadata": {},
     "output_type": "execute_result"
    }
   ],
   "source": [
    "y_test_pred"
   ]
  },
  {
   "cell_type": "code",
   "execution_count": 86,
   "id": "87e497cc-24e7-4223-a1dc-90b79dd6a663",
   "metadata": {},
   "outputs": [],
   "source": [
    "threshold = 0.5\n",
    "y_test_pred_classes = tf.cast(y_test_pred >= threshold, tf.int32)"
   ]
  },
  {
   "cell_type": "code",
   "execution_count": 87,
   "id": "844e7dfa-339d-4bd0-9e00-0dd97d962c26",
   "metadata": {},
   "outputs": [
    {
     "data": {
      "text/plain": [
       "array([0, 0, 0, ..., 0, 0, 0], dtype=int32)"
      ]
     },
     "execution_count": 87,
     "metadata": {},
     "output_type": "execute_result"
    }
   ],
   "source": [
    "y_test_pred_classes.numpy().ravel()"
   ]
  },
  {
   "cell_type": "code",
   "execution_count": 88,
   "id": "eff400c0-3877-43b6-882f-8d3339ebab4d",
   "metadata": {},
   "outputs": [],
   "source": [
    "y_test_classes = []\n",
    "for _, y in val_ds:\n",
    "    y_test_classes.extend(y.numpy())\n",
    "y_test_classes = np.array(y_test_classes)"
   ]
  },
  {
   "cell_type": "code",
   "execution_count": 89,
   "id": "7241087e-a047-4699-875b-01433b1a19ab",
   "metadata": {},
   "outputs": [
    {
     "data": {
      "text/plain": [
       "array([0, 1, 1, ..., 0, 0, 0], dtype=int32)"
      ]
     },
     "execution_count": 89,
     "metadata": {},
     "output_type": "execute_result"
    }
   ],
   "source": [
    "y_test_classes"
   ]
  },
  {
   "cell_type": "code",
   "execution_count": 90,
   "id": "795fc110-2ebe-44cd-b555-15ef9a0955ea",
   "metadata": {},
   "outputs": [
    {
     "name": "stdout",
     "output_type": "stream",
     "text": [
      "0\n",
      "\n",
      "[0.10016247]\n",
      "0\n"
     ]
    }
   ],
   "source": [
    "sample_idx = 0\n",
    "\n",
    "print(f\"{np.argmax(y_test_classes[sample_idx])}\\n\\n{y_test_pred[sample_idx]}\\n{np.argmax(y_test_pred_classes[sample_idx])}\")"
   ]
  },
  {
   "cell_type": "markdown",
   "id": "c1b0adee-617b-451b-a807-ab00d21f71fb",
   "metadata": {},
   "source": [
    "Konfusionsmatrix erstellen"
   ]
  },
  {
   "cell_type": "code",
   "execution_count": 91,
   "id": "27cdc0a3-aad1-4480-a245-7364bdd0f0e5",
   "metadata": {},
   "outputs": [],
   "source": [
    "class_names = raw_val_ds.class_names"
   ]
  },
  {
   "cell_type": "code",
   "execution_count": 92,
   "id": "a11f1f7e-78e9-473d-bba3-9c9644b18d7f",
   "metadata": {},
   "outputs": [],
   "source": [
    "from sklearn.metrics import confusion_matrix, ConfusionMatrixDisplay"
   ]
  },
  {
   "cell_type": "code",
   "execution_count": 93,
   "id": "303fa7f7-9e1b-4104-bfc6-8bfb7f570ce3",
   "metadata": {},
   "outputs": [
    {
     "name": "stdout",
     "output_type": "stream",
     "text": [
      "[[0.89926889 0.10073111]\n",
      " [0.178487   0.821513  ]]\n"
     ]
    }
   ],
   "source": [
    "cm_norm = confusion_matrix(y_test_classes, y_test_pred_classes, normalize=\"true\")\n",
    "print(cm_norm)"
   ]
  },
  {
   "cell_type": "code",
   "execution_count": 94,
   "id": "133dfe4b-e020-4b94-a7ab-dd7498dcf04c",
   "metadata": {},
   "outputs": [
    {
     "data": {
      "image/png": "[encoded data removed]",
      "text/plain": [
       "<Figure size 800x500 with 1 Axes>"
      ]
     },
     "metadata": {},
     "output_type": "display_data"
    },
    {
     "data": {
      "image/png": "[encoded data removed]",
      "text/plain": [
       "<Figure size 800x500 with 1 Axes>"
      ]
     },
     "metadata": {},
     "output_type": "display_data"
    },
    {
     "data": {
      "image/png": "[encoded data removed]",
      "text/plain": [
       "<Figure size 400x400 with 1 Axes>"
      ]
     },
     "metadata": {},
     "output_type": "display_data"
    }
   ],
   "source": [
    "fig, ax = plt.subplots(figsize=(4, 4))\n",
    "cmd = ConfusionMatrixDisplay(cm_norm, display_labels=class_names)\n",
    "cmd.plot(ax=ax, values_format=\".2f\", xticks_rotation=\"vertical\", colorbar=False, cmap=\"Blues\")\n",
    "plt.tight_layout()\n",
    "plt.show()"
   ]
  },
  {
   "cell_type": "code",
   "execution_count": 95,
   "id": "63524251-252e-46e8-88aa-7163ff7e7f63",
   "metadata": {},
   "outputs": [
    {
     "name": "stdout",
     "output_type": "stream",
     "text": [
      "              precision    recall  f1-score   support\n",
      "\n",
      "         neg       0.83      0.90      0.86      2462\n",
      "         pos       0.89      0.82      0.86      2538\n",
      "\n",
      "    accuracy                           0.86      5000\n",
      "   macro avg       0.86      0.86      0.86      5000\n",
      "weighted avg       0.86      0.86      0.86      5000\n",
      "\n"
     ]
    }
   ],
   "source": [
    "from sklearn.metrics import classification_report\n",
    "\n",
    "print(classification_report(y_test_classes, y_test_pred_classes, target_names=class_names))"
   ]
  },
  {
   "cell_type": "code",
   "execution_count": 96,
   "id": "21179c75-1eb1-49b1-9734-1783938d749b",
   "metadata": {},
   "outputs": [],
   "source": [
    "from sklearn.metrics import PrecisionRecallDisplay\n",
    "\n",
    "display = PrecisionRecallDisplay.from_predictions(y_test_classes, y_test_pred, plot_chance_level=True)\n",
    "_ = display.ax_.set_title(\"2-class Precision-Recall curve\")"
   ]
  },
  {
   "cell_type": "code",
   "execution_count": 97,
   "id": "63685857-b381-4df9-8426-90db53429cdd",
   "metadata": {},
   "outputs": [],
   "source": [
    "from sklearn.metrics import RocCurveDisplay\n",
    "\n",
    "display = RocCurveDisplay.from_predictions(y_test_classes, y_test_pred, plot_chance_level=True)\n",
    "_ = display.ax_.set_title(\"2-class ROC curve\")"
   ]
  },
  {
   "cell_type": "markdown",
   "id": "a5b762d8-da2a-4c22-822c-a19e4165f32b",
   "metadata": {},
   "source": [
    "## Model speichern\n",
    "\n",
    "Siehe auch:\n",
    "- <https://www.tensorflow.org/tutorials/keras/save_and_load>\n",
    "- <https://www.tensorflow.org/api_docs/python/tf/keras/saving/save_model>"
   ]
  },
  {
   "cell_type": "code",
   "execution_count": 98,
   "id": "87fb860e-9ff1-4c59-83cb-ae0108ae8531",
   "metadata": {},
   "outputs": [
    {
     "data": {
      "text/plain": [
       "PosixPath('/home/juan/jupyter_projects_ML/05_vorlesung_NaturalLanguageProcessing/saved_models/imdb_nlp/20250130-063243')"
      ]
     },
     "execution_count": 98,
     "metadata": {},
     "output_type": "execute_result"
    }
   ],
   "source": [
    "EXPORT_PATH = Path(\"saved_models\", \"imdb_nlp\", datetime.datetime.now().strftime(\"%Y%m%d-%H%M%S\")).resolve()\n",
    "EXPORT_PATH"
   ]
  },
  {
   "cell_type": "code",
   "execution_count": 102,
   "id": "30d30cbe-f34b-4974-949e-2c1362464e8c",
   "metadata": {},
   "outputs": [],
   "source": [
    "# tf.keras.models.save_model(export_model, EXPORT_PATH)"
   ]
  },
  {
   "cell_type": "markdown",
   "id": "cc7b1e03-698a-41fd-86b2-3662e5290c10",
   "metadata": {},
   "source": [
    "## Model laden"
   ]
  },
  {
   "cell_type": "code",
   "execution_count": 103,
   "id": "6015e5d4-2cc1-48f8-af9a-84a0e35a4d47",
   "metadata": {},
   "outputs": [
    {
     "data": {
      "text/plain": [
       "PosixPath('/home/juan/jupyter_projects_ML/05_vorlesung_NaturalLanguageProcessing/saved_models/imdb_nlp/20231210-221731')"
      ]
     },
     "execution_count": 103,
     "metadata": {},
     "output_type": "execute_result"
    }
   ],
   "source": [
    "IMPORT_PATH = Path(\"saved_models\", \"imdb_nlp\", \"20231210-221731\").resolve()\n",
    "IMPORT_PATH"
   ]
  },
  {
   "cell_type": "code",
   "execution_count": 104,
   "id": "2f9a5adf-ba59-4785-9481-4125c5af03f2",
   "metadata": {},
   "outputs": [],
   "source": [
    "#imported_model = tf.keras.models.load_model(IMPORT_PATH)"
   ]
  },
  {
   "cell_type": "code",
   "execution_count": 117,
   "id": "9610fd04-439a-4d19-9079-374a070033ac",
   "metadata": {},
   "outputs": [],
   "source": [
    "text_test = \"The movie was terrible!\""
   ]
  },
  {
   "cell_type": "code",
   "execution_count": 118,
   "id": "72229575-3454-418c-b4de-918c78bc74ae",
   "metadata": {},
   "outputs": [
    {
     "name": "stdout",
     "output_type": "stream",
     "text": [
      "\u001b[1m1/1\u001b[0m \u001b[32m━━━━━━━━━━━━━━━━━━━━\u001b[0m\u001b[37m\u001b[0m \u001b[1m0s\u001b[0m 19ms/step\n"
     ]
    },
    {
     "data": {
      "text/plain": [
       "array([[0.12782297]], dtype=float32)"
      ]
     },
     "execution_count": 118,
     "metadata": {},
     "output_type": "execute_result"
    }
   ],
   "source": [
    "export_model.predict(tf.convert_to_tensor([text_test]))"
   ]
  },
  {
   "cell_type": "code",
   "execution_count": null,
   "id": "961ad90c-41d4-4d61-b20d-2f823d0efd7b",
   "metadata": {},
   "outputs": [],
   "source": []
  }
 ],
 "metadata": {
  "kernelspec": {
   "display_name": "Python (ml-modul-24)",
   "language": "python",
   "name": "ml-modul-24"
  },
  "language_info": {
   "codemirror_mode": {
    "name": "ipython",
    "version": 3
   },
   "file_extension": ".py",
   "mimetype": "text/x-python",
   "name": "python",
   "nbconvert_exporter": "python",
   "pygments_lexer": "ipython3",
   "version": "3.11.10"
  }
 },
 "nbformat": 4,
 "nbformat_minor": 5
}
